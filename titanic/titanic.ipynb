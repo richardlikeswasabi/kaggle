{
 "cells": [
  {
   "cell_type": "markdown",
   "metadata": {},
   "source": [
    "# Loading modules"
   ]
  },
  {
   "cell_type": "code",
   "execution_count": null,
   "metadata": {},
   "outputs": [],
   "source": [
    "from IPython.display import display, HTML\n",
    "\n",
    "# Visualisation tools\n",
    "import matplotlib.pyplot as plt\n",
    "#%matplotlib inline\n",
    "import seaborn as sns\n",
    "\n",
    "# Processing tools\n",
    "import numpy as np\n",
    "import pandas as pd\n",
    "from sklearn.model_selection import train_test_split, cross_val_score\n",
    "from sklearn.preprocessing import LabelEncoder, OrdinalEncoder\n",
    "from sklearn.metrics import accuracy_score\n",
    "\n",
    "# sklearn models\n",
    "from sklearn.naive_bayes import MultinomialNB, GaussianNB\n",
    "from sklearn.linear_model import SGDClassifier, LogisticRegression\n",
    "from sklearn.ensemble import RandomForestClassifier, GradientBoostingClassifier\n",
    "from sklearn.svm import LinearSVC\n",
    "from sklearn.tree import DecisionTreeClassifier\n",
    "from sklearn.neighbors import KNeighborsClassifier\n",
    "from sklearn.neural_network import MLPClassifier"
   ]
  },
  {
   "cell_type": "code",
   "execution_count": null,
   "metadata": {
    "scrolled": true
   },
   "outputs": [],
   "source": [
    "gender_sub = pd.read_csv('data/gender_submission.csv')\n",
    "train = pd.read_csv('data/train.csv')\n",
    "test = pd.read_csv('data/test.csv')"
   ]
  },
  {
   "cell_type": "markdown",
   "metadata": {},
   "source": [
    "# Having a look at inputs"
   ]
  },
  {
   "cell_type": "code",
   "execution_count": null,
   "metadata": {},
   "outputs": [],
   "source": [
    "print(train.shape)\n",
    "print(train.groupby('Survived').size())\n",
    "train['Cabin'] = len(train['Cabin'].unique())\n",
    "print('Name:', len(train['Name'].unique()))\n",
    "print('Ticket:', len(train['Ticket'].unique()))\n",
    "print('Embarked:', len(train['Embarked'].unique()))\n"
   ]
  },
  {
   "cell_type": "code",
   "execution_count": null,
   "metadata": {},
   "outputs": [],
   "source": [
    "display(gender_sub.head())\n",
    "display(train.head())\n",
    "display(test.head())"
   ]
  },
  {
   "cell_type": "markdown",
   "metadata": {},
   "source": [
    "# Now lets do some quick exploratory analysis with graphs."
   ]
  },
  {
   "cell_type": "code",
   "execution_count": null,
   "metadata": {
    "scrolled": false
   },
   "outputs": [],
   "source": [
    "fig = plt.figure()\n",
    "sns.set(color_codes=True)\n",
    "\n",
    "display(train.groupby('Survived')['Survived'].count())\n",
    "train_survived = train[train['Survived'] == 1]\n",
    "train_ded = train[train['Survived'] == 1]\n",
    "\n",
    "display(train)\n",
    "sns.distplot(train['Age'].dropna(), label=\"All\")\n",
    "sns.distplot(train_ded['Age'].dropna(), label=\"Dead\");\n",
    "sns.distplot(train_survived['Age'].dropna(), label=\"Survived\");\n",
    "plt.legend()\n",
    "plt.show()\n",
    "\n",
    "sns.distplot(train['Age'])\n",
    "plt.show()\n",
    "sns.distplot(train['Fare'])\n",
    "plt.show()"
   ]
  },
  {
   "cell_type": "markdown",
   "metadata": {},
   "source": [
    "# Selecting and encoding features/labels"
   ]
  },
  {
   "cell_type": "code",
   "execution_count": null,
   "metadata": {},
   "outputs": [],
   "source": [
    "gender_sub = pd.read_csv('data/gender_submission.csv')\n",
    "train = pd.read_csv('data/train.csv')\n",
    "test = pd.read_csv('data/test.csv')\n",
    "\n",
    "train = train.drop(columns=['Name'])\n",
    "display(train.head())\n",
    "\n",
    "mean = train['Age'].mean()\n",
    "train['Age'] = train['Age'].fillna(mean)\n",
    "train = train.fillna('-1')\n",
    "\n",
    "categories_to_encode = ['Cabin', 'Embarked', 'Ticket', 'Sex']\n",
    "for c in categories_to_encode:\n",
    "    le = LabelEncoder()\n",
    "    train[c] = le.fit_transform(train[c])\n",
    "\n",
    "corr = train.corr()\n",
    "sns.heatmap(corr, \n",
    "        xticklabels=corr.columns,\n",
    "        yticklabels=corr.columns)\n",
    "plt.show()\n",
    "print(corr[\"Survived\"].sort_values(ascending=False))\n",
    "\n",
    "features_to_drop = ['PassengerId', 'SibSp']\n",
    "features = train.drop(columns=features_to_drop)\n",
    "labels = features.pop('Survived').values\n"
   ]
  },
  {
   "cell_type": "markdown",
   "metadata": {},
   "source": [
    "# Testing different classifier models."
   ]
  },
  {
   "cell_type": "code",
   "execution_count": null,
   "metadata": {},
   "outputs": [],
   "source": [
    "models = [\n",
    "    RandomForestClassifier(n_estimators=200, max_depth=3, random_state=0),\n",
    "    DecisionTreeClassifier(),\n",
    "    #KNeighborsClassifier(),\n",
    "    #LinearSVC(),\n",
    "    #SGDClassifier(loss='hinge', class_weight='balanced'),\n",
    "    #MultinomialNB(),\n",
    "    GaussianNB(),\n",
    "    MLPClassifier(),\n",
    "    #GradientBoostingClassifier(),\n",
    "    LogisticRegression(random_state=0),\n",
    "]\n",
    "CV = 5 # Folds in data\n",
    "cv_df = pd.DataFrame(index=range(CV * len(models)))\n",
    "entries = []\n",
    "for model in models:\n",
    "  model_name = model.__class__.__name__\n",
    "  accuracies = cross_val_score(model, features, labels, scoring='accuracy', cv=CV)\n",
    "  for fold_idx, accuracy in enumerate(accuracies):\n",
    "    entries.append((model_name, fold_idx, accuracy))\n",
    "cv_df = pd.DataFrame(entries, columns=['model_name', 'fold_idx', 'accuracy'])\n",
    "\n",
    "sns.boxplot(x='model_name', y='accuracy', data=cv_df)\n",
    "sns.stripplot(x='model_name', y='accuracy', data=cv_df, \n",
    "              size=8, jitter=True, edgecolor=\"gray\", linewidth=2)\n",
    "plt.show()\n",
    "print(cv_df.groupby('model_name').accuracy.mean())"
   ]
  },
  {
   "cell_type": "code",
   "execution_count": null,
   "metadata": {},
   "outputs": [],
   "source": [
    "X_train, X_test, y_train, y_test = train_test_split(features, \n",
    "                                                    labels, \n",
    "                                                    test_size=0.2, \n",
    "                                                    random_state=0)\n",
    "clf = LogisticRegression()\n",
    "clf.fit(X_train, y_train) \n",
    "\n",
    "y_pred = clf.predict(X_test)\n",
    "\n",
    "accuracy = accuracy_score(y_pred, y_test)\n",
    "print(\"Model Accuracy:\", accuracy)"
   ]
  },
  {
   "cell_type": "code",
   "execution_count": null,
   "metadata": {},
   "outputs": [],
   "source": []
  },
  {
   "cell_type": "code",
   "execution_count": null,
   "metadata": {},
   "outputs": [],
   "source": []
  }
 ],
 "metadata": {
  "kernelspec": {
   "display_name": ".venv",
   "language": "python",
   "name": ".venv"
  },
  "language_info": {
   "codemirror_mode": {
    "name": "ipython",
    "version": 3
   },
   "file_extension": ".py",
   "mimetype": "text/x-python",
   "name": "python",
   "nbconvert_exporter": "python",
   "pygments_lexer": "ipython3",
   "version": "3.6.7"
  }
 },
 "nbformat": 4,
 "nbformat_minor": 2
}
